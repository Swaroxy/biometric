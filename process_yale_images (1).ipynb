{
 "cells": [
  {
   "cell_type": "code",
   "execution_count": 1,
   "metadata": {
    "id": "faAtJO-00P1k"
   },
   "outputs": [],
   "source": [
    "import os\n",
    "import numpy as np\n",
    "from matplotlib import image\n",
    "from matplotlib import pyplot\n",
    "import zipfile  # This is the missing import\n"
   ]
  },
  {
   "cell_type": "code",
   "execution_count": 2,
   "metadata": {
    "colab": {
     "base_uri": "https://localhost:8080/"
    },
    "executionInfo": {
     "elapsed": 824,
     "status": "ok",
     "timestamp": 1732383296962,
     "user": {
      "displayName": "Swagat Bhattarai",
      "userId": "11424106059256834728"
     },
     "user_tz": -345
    },
    "id": "_Tg2dWnQ0P1m",
    "outputId": "40685fe2-8749-4c73-d3eb-377b36142170"
   },
   "outputs": [],
   "source": [
    "# Set the path to your dataset folder and the zip file\n",
    "dataset_path = \"D:/biometric/\"  # Adjust path to your dataset folder\n",
    "zip_path = \"D:/biometric/Tr0.zip\"  # Path to your Tr0.zip file\n",
    "images_folder = \"Tr0\"  # Folder name inside the zip file (to be extracted)\n",
    "npy_data_path = \"D:/biometric/\"  # Path to save the .npy files (where yaleExtB_data.npy will be saved)"
   ]
  },
  {
   "cell_type": "code",
   "execution_count": 3,
   "metadata": {
    "colab": {
     "base_uri": "https://localhost:8080/"
    },
    "executionInfo": {
     "elapsed": 638,
     "status": "ok",
     "timestamp": 1732383302818,
     "user": {
      "displayName": "Swagat Bhattarai",
      "userId": "11424106059256834728"
     },
     "user_tz": -345
    },
    "id": "BAkoL_bS0P1p",
    "outputId": "8f367e74-ca6e-4709-bbe4-3929180316d5"
   },
   "outputs": [
    {
     "name": "stdout",
     "output_type": "stream",
     "text": [
      "'Tr0' folder already exists. Skipping extraction.\n"
     ]
    }
   ],
   "source": [
    "# Check if the 'Tr0' folder exists, and if not, unzip the zip file\n",
    "if not os.path.exists(os.path.join(dataset_path, images_folder)):\n",
    "    with zipfile.ZipFile(zip_path, 'r') as zip_ref:\n",
    "        zip_ref.extractall(dataset_path)  # Extract all files from the zip file to the dataset path\n",
    "    print(f\"Extracted '{zip_path}' to '{dataset_path}'\")\n",
    "else:\n",
    "    print(f\"'{images_folder}' folder already exists. Skipping extraction.\")"
   ]
  },
  {
   "cell_type": "code",
   "execution_count": 4,
   "metadata": {
    "colab": {
     "base_uri": "https://localhost:8080/"
    },
    "executionInfo": {
     "elapsed": 427,
     "status": "ok",
     "timestamp": 1732383540055,
     "user": {
      "displayName": "Swagat Bhattarai",
      "userId": "11424106059256834728"
     },
     "user_tz": -345
    },
    "id": "Klqqlqlk_xlT",
    "outputId": "64aa5b0d-238d-4adc-f521-fef57d4f8d88"
   },
   "outputs": [],
   "source": [
    "images_folder_path = os.path.join(dataset_path, images_folder)\n"
   ]
  },
  {
   "cell_type": "markdown",
   "metadata": {
    "id": "EyuvO71yAecz"
   },
   "source": [
    "Unzip the images:"
   ]
  },
  {
   "cell_type": "code",
   "execution_count": 5,
   "metadata": {
    "colab": {
     "base_uri": "https://localhost:8080/"
    },
    "executionInfo": {
     "elapsed": 423,
     "status": "ok",
     "timestamp": 1732383542861,
     "user": {
      "displayName": "Swagat Bhattarai",
      "userId": "11424106059256834728"
     },
     "user_tz": -345
    },
    "id": "HghjlZYOBWWu",
    "outputId": "b80f2e15-7e04-42b3-a2d4-e0f7f7b62e5f"
   },
   "outputs": [
    {
     "name": "stdout",
     "output_type": "stream",
     "text": [
      "Number of images: 1500\n"
     ]
    }
   ],
   "source": [
    "# Create a list of all image files in the 'Tr0' folder\n",
    "from os import listdir\n",
    "fls = listdir(images_folder_path)  # List all image files in the folder\n",
    "n = len(fls)  # Number of images\n",
    "print(f'Number of images: {n}')"
   ]
  },
  {
   "cell_type": "code",
   "execution_count": 6,
   "metadata": {
    "colab": {
     "base_uri": "https://localhost:8080/"
    },
    "executionInfo": {
     "elapsed": 26832,
     "status": "ok",
     "timestamp": 1732383533051,
     "user": {
      "displayName": "Swagat Bhattarai",
      "userId": "11424106059256834728"
     },
     "user_tz": -345
    },
    "id": "RB_CHKbR-87Z",
    "outputId": "cab0a8af-a5fa-436f-d965-9ad732434dbf"
   },
   "outputs": [
    {
     "name": "stdout",
     "output_type": "stream",
     "text": [
      "(77, 68)\n"
     ]
    },
    {
     "data": {
      "image/png": "[encoded data removed]",
      "text/plain": [
       "<Figure size 640x480 with 1 Axes>"
      ]
     },
     "metadata": {},
     "output_type": "display_data"
    }
   ],
   "source": [
    "# Load and display the first image to check\n",
    "im1 = image.imread(os.path.join(images_folder_path, fls[0]))  # Load the first image\n",
    "print(im1.shape)  # Print the shape of the image (height, width)\n",
    "pyplot.imshow(im1, cmap=pyplot.cm.gray)  # Display the image\n",
    "pyplot.show()"
   ]
  },
  {
   "cell_type": "markdown",
   "metadata": {
    "id": "n1D37E98FShO"
   },
   "source": [
    "Make a list of all images in the directory."
   ]
  },
  {
   "cell_type": "code",
   "execution_count": 7,
   "metadata": {
    "colab": {
     "base_uri": "https://localhost:8080/"
    },
    "executionInfo": {
     "elapsed": 534,
     "status": "ok",
     "timestamp": 1732383547227,
     "user": {
      "displayName": "Swagat Bhattarai",
      "userId": "11424106059256834728"
     },
     "user_tz": -345
    },
    "id": "RAMswIhG0P12",
    "outputId": "082b7b6e-7721-492e-887b-49e4345282a6"
   },
   "outputs": [
    {
     "name": "stdout",
     "output_type": "stream",
     "text": [
      "Processed 0/1500 images\n",
      "Processed 100/1500 images\n",
      "Processed 200/1500 images\n",
      "Processed 300/1500 images\n",
      "Processed 400/1500 images\n",
      "Processed 500/1500 images\n",
      "Processed 600/1500 images\n",
      "Processed 700/1500 images\n",
      "Processed 800/1500 images\n",
      "Processed 900/1500 images\n",
      "Processed 1000/1500 images\n",
      "Processed 1100/1500 images\n",
      "Processed 1200/1500 images\n",
      "Processed 1300/1500 images\n",
      "Processed 1400/1500 images\n"
     ]
    }
   ],
   "source": [
    "# Process the images and create data for the ANN\n",
    "m = im1.shape[0] * im1.shape[1]  # Flatten the image size: height * width = number of pixels\n",
    "images_data = np.zeros((n, m))  # Create an array to store image data\n",
    "images_target = np.zeros((n,))  # Create an array for targets (class labels)\n",
    "\n",
    "# Loop through all images and process them\n",
    "for i in range(n):\n",
    "    filename = fls[i]  # Get the filename\n",
    "    img = image.imread(os.path.join(images_folder_path, filename))  # Read the image\n",
    "    images_data[i] = np.ravel(img)  # Flatten the image into a 1D array and store it in images_data\n",
    "    c = int(filename[5:7])  # Extract the class label from the filename (e.g., 's01', 's02', etc.)\n",
    "    images_target[i] = c  # Store the class label in images_target\n",
    "\n",
    "    if i % 100 == 0:  # Print progress every 100 images\n",
    "        print(f\"Processed {i}/{n} images\")\n"
   ]
  },
  {
   "cell_type": "code",
   "execution_count": 8,
   "metadata": {
    "colab": {
     "base_uri": "https://localhost:8080/"
    },
    "executionInfo": {
     "elapsed": 3207,
     "status": "ok",
     "timestamp": 1732383552249,
     "user": {
      "displayName": "Swagat Bhattarai",
      "userId": "11424106059256834728"
     },
     "user_tz": -345
    },
    "id": "8bwQb2k8FV68",
    "outputId": "de04406b-1836-43db-8306-7e5f3f41d4d5"
   },
   "outputs": [],
   "source": [
    "# Save the processed data as .npy files\n",
    "npy_data_file = os.path.join(npy_data_path, \"yaleExtB_data.npy\")\n",
    "npy_target_file = os.path.join(npy_data_path, \"yaleExtB_target.npy\")"
   ]
  },
  {
   "cell_type": "markdown",
   "metadata": {
    "id": "EFCynGy8F_Zb"
   },
   "source": [
    " Load and display 1st image using Matplotlib"
   ]
  },
  {
   "cell_type": "code",
   "execution_count": 9,
   "metadata": {
    "colab": {
     "base_uri": "https://localhost:8080/",
     "height": 450
    },
    "executionInfo": {
     "elapsed": 924,
     "status": "ok",
     "timestamp": 1732383555591,
     "user": {
      "displayName": "Swagat Bhattarai",
      "userId": "11424106059256834728"
     },
     "user_tz": -345
    },
    "id": "HB8yeiSPGHXS",
    "outputId": "847f1013-adcb-4d83-b82e-78393fb179a2"
   },
   "outputs": [],
   "source": [
    "np.save(npy_data_file, images_data)  # Save the image data\n",
    "np.save(npy_target_file, images_target)  # Save the image labels"
   ]
  },
  {
   "cell_type": "markdown",
   "metadata": {
    "id": "4Xh3KQ8GZNMn"
   },
   "source": [
    "Create the data and target for training an ANN. The data will be a matrix of n=1500 rows and h*w columns, where n is the number of images, h=77 and w=68 are the height and width of an image in pixels. The target will be a nx1 matrix."
   ]
  },
  {
   "cell_type": "code",
   "execution_count": 10,
   "metadata": {
    "executionInfo": {
     "elapsed": 35762,
     "status": "ok",
     "timestamp": 1732383594830,
     "user": {
      "displayName": "Swagat Bhattarai",
      "userId": "11424106059256834728"
     },
     "user_tz": -345
    },
    "id": "aBuoQCynGHfy"
   },
   "outputs": [
    {
     "name": "stdout",
     "output_type": "stream",
     "text": [
      "Data saved to: D:/biometric/yaleExtB_data.npy\n",
      "Target labels saved to: D:/biometric/yaleExtB_target.npy\n"
     ]
    }
   ],
   "source": [
    "print(f\"Data saved to: {npy_data_file}\")\n",
    "print(f\"Target labels saved to: {npy_target_file}\")\n"
   ]
  },
  {
   "cell_type": "code",
   "execution_count": 11,
   "metadata": {
    "colab": {
     "base_uri": "https://localhost:8080/",
     "height": 35
    },
    "executionInfo": {
     "elapsed": 445,
     "status": "ok",
     "timestamp": 1732383600248,
     "user": {
      "displayName": "Swagat Bhattarai",
      "userId": "11424106059256834728"
     },
     "user_tz": -345
    },
    "id": "4yzSpinz0P1-",
    "outputId": "5b9b193e-6b6a-4246-8789-7e7a8bc0bdb2"
   },
   "outputs": [
    {
     "name": "stdout",
     "output_type": "stream",
     "text": [
      "Images data and target labels:\n",
      "Data shape: (1500, 5236)\n",
      "Target shape: (1500,)\n"
     ]
    }
   ],
   "source": [
    "# Verify saved data\n",
    "print(\"Images data and target labels:\")\n",
    "print(f\"Data shape: {images_data.shape}\")\n",
    "print(f\"Target shape: {images_target.shape}\")"
   ]
  },
  {
   "cell_type": "code",
   "execution_count": 12,
   "metadata": {
    "colab": {
     "base_uri": "https://localhost:8080/"
    },
    "executionInfo": {
     "elapsed": 440,
     "status": "ok",
     "timestamp": 1732383603984,
     "user": {
      "displayName": "Swagat Bhattarai",
      "userId": "11424106059256834728"
     },
     "user_tz": -345
    },
    "id": "hdtzMXRB0P1-",
    "outputId": "93cbcac1-b15f-4404-df73-bfeb85558cf0"
   },
   "outputs": [
    {
     "name": "stdout",
     "output_type": "stream",
     "text": [
      "Files in the dataset directory: ['app.py', 'Copy of classify_yale-v2 (1).ipynb', 'process_yale_images (1).ipynb', 'Tr0', 'Tr0.zip', 'yaleExtB_data.npy', 'yaleExtB_target.npy']\n"
     ]
    }
   ],
   "source": [
    "print(\"Files in the dataset directory:\", os.listdir(dataset_path))\n"
   ]
  },
  {
   "cell_type": "markdown",
   "metadata": {
    "id": "22YCdWm8JcFb"
   },
   "source": [
    "Save the data and target on Google drive as .npy files."
   ]
  }
 ],
 "metadata": {
  "colab": {
   "provenance": []
  },
  "kernelspec": {
   "display_name": "Python 3",
   "language": "python",
   "name": "python3"
  },
  "language_info": {
   "codemirror_mode": {
    "name": "ipython",
    "version": 3
   },
   "file_extension": ".py",
   "mimetype": "text/x-python",
   "name": "python",
   "nbconvert_exporter": "python",
   "pygments_lexer": "ipython3",
   "version": "3.12.6"
  }
 },
 "nbformat": 4,
 "nbformat_minor": 0
}
